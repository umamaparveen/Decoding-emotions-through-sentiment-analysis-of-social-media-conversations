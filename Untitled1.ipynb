{
  "nbformat": 4,
  "nbformat_minor": 0,
  "metadata": {
    "colab": {
      "provenance": [],
      "include_colab_link": true
    },
    "kernelspec": {
      "name": "python3",
      "display_name": "Python 3"
    },
    "language_info": {
      "name": "python"
    }
  },
  "cells": [
    {
      "cell_type": "markdown",
      "metadata": {
        "id": "view-in-github",
        "colab_type": "text"
      },
      "source": [
        "<a href=\"https://colab.research.google.com/github/umamaparveen/Decoding-emotions-through-sentiment-analysis-of-social-media-conversations/blob/main/Untitled1.ipynb\" target=\"_parent\"><img src=\"https://colab.research.google.com/assets/colab-badge.svg\" alt=\"Open In Colab\"/></a>"
      ]
    },
    {
      "cell_type": "markdown",
      "source": [],
      "metadata": {
        "id": "OAtA9y_6yNwH"
      }
    },
    {
      "cell_type": "code",
      "source": [],
      "metadata": {
        "id": "83vSMFCByOnn"
      },
      "execution_count": 4,
      "outputs": []
    },
    {
      "cell_type": "markdown",
      "source": [],
      "metadata": {
        "id": "kiQcbhBa5nmb"
      }
    },
    {
      "cell_type": "code",
      "source": [
        "!pip install nbstripout\n",
        "!nbstripout Untitled1"
      ],
      "metadata": {
        "colab": {
          "base_uri": "https://localhost:8080/"
        },
        "id": "VgkvSqn05ohB",
        "outputId": "5ca7d628-dabb-4d7b-ab37-b59207699396"
      },
      "execution_count": 4,
      "outputs": [
        {
          "output_type": "stream",
          "name": "stdout",
          "text": [
            "Requirement already satisfied: nbstripout in /usr/local/lib/python3.11/dist-packages (0.8.1)\n",
            "Requirement already satisfied: nbformat in /usr/local/lib/python3.11/dist-packages (from nbstripout) (5.10.4)\n",
            "Requirement already satisfied: fastjsonschema>=2.15 in /usr/local/lib/python3.11/dist-packages (from nbformat->nbstripout) (2.21.1)\n",
            "Requirement already satisfied: jsonschema>=2.6 in /usr/local/lib/python3.11/dist-packages (from nbformat->nbstripout) (4.23.0)\n",
            "Requirement already satisfied: jupyter-core!=5.0.*,>=4.12 in /usr/local/lib/python3.11/dist-packages (from nbformat->nbstripout) (5.7.2)\n",
            "Requirement already satisfied: traitlets>=5.1 in /usr/local/lib/python3.11/dist-packages (from nbformat->nbstripout) (5.7.1)\n",
            "Requirement already satisfied: attrs>=22.2.0 in /usr/local/lib/python3.11/dist-packages (from jsonschema>=2.6->nbformat->nbstripout) (25.3.0)\n",
            "Requirement already satisfied: jsonschema-specifications>=2023.03.6 in /usr/local/lib/python3.11/dist-packages (from jsonschema>=2.6->nbformat->nbstripout) (2025.4.1)\n",
            "Requirement already satisfied: referencing>=0.28.4 in /usr/local/lib/python3.11/dist-packages (from jsonschema>=2.6->nbformat->nbstripout) (0.36.2)\n",
            "Requirement already satisfied: rpds-py>=0.7.1 in /usr/local/lib/python3.11/dist-packages (from jsonschema>=2.6->nbformat->nbstripout) (0.24.0)\n",
            "Requirement already satisfied: platformdirs>=2.5 in /usr/local/lib/python3.11/dist-packages (from jupyter-core!=5.0.*,>=4.12->nbformat->nbstripout) (4.3.8)\n",
            "Requirement already satisfied: typing-extensions>=4.4.0 in /usr/local/lib/python3.11/dist-packages (from referencing>=0.28.4->jsonschema>=2.6->nbformat->nbstripout) (4.13.2)\n"
          ]
        }
      ]
    },
    {
      "cell_type": "code",
      "source": [
        "import gradio as gr\n",
        "from transformers import pipeline\n",
        "\n",
        "# Emotion-to-emoji mapping\n",
        "emotion_emoji_map = {\n",
        "    \"joy\": \"😄\", \"sadness\": \"😢\", \"anger\": \"😠\", \"fear\": \"😱\", \"disgust\": \"🤢\",\n",
        "    \"surprise\": \"😲\", \"love\": \"❤️\", \"admiration\": \"👏\", \"amusement\": \"😂\",\n",
        "    \"gratitude\": \"🙏\", \"nervousness\": \"😬\", \"optimism\": \"🌟\", \"pride\": \"🏅\",\n",
        "    \"disappointment\": \"😞\", \"relief\": \"😌\", \"caring\": \"🤗\", \"remorse\": \"😔\",\n",
        "    \"confusion\": \"😕\", \"realization\": \"💡\", \"neutral\": \"😐\"\n",
        "}\n",
        "\n",
        "# Load emotion classifier\n",
        "classifier = pipeline(\"text-classification\", model=\"j-hartmann/emotion-english-distilroberta-base\")\n",
        "\n",
        "# Define prediction function\n",
        "def predict_emotion(text):\n",
        "    result = classifier(text)[0]\n",
        "    emotion = result['label']\n",
        "    score = result['score']\n",
        "    emoji_icon = emotion_emoji_map.get(emotion.lower(), \"❓\")\n",
        "    return f\"**Detected Emotion:** {emotion} {emoji_icon}\\n**Confidence:** {score:.2%}\"\n",
        "\n",
        "# Create Gradio interface\n",
        "iface = gr.Interface(\n",
        "    fn=predict_emotion,\n",
        "    inputs=gr.Textbox(lines=3, placeholder=\"Enter a social media message...\"),\n",
        "    outputs=\"markdown\",\n",
        "    title=\"Emotion Classifier\",\n",
        "    description=\"Enter a message to detect its emotion and corresponding emoji.\"\n",
        ")\n",
        "\n",
        "# Launch the interface\n",
        "iface.launch()\n"
      ],
      "metadata": {
        "colab": {
          "base_uri": "https://localhost:8080/",
          "height": 663
        },
        "id": "gkikRM0A6Jlx",
        "outputId": "ecc6a36f-7705-468a-f6b9-7f6bc593f7d8"
      },
      "execution_count": 6,
      "outputs": [
        {
          "output_type": "stream",
          "name": "stderr",
          "text": [
            "Device set to use cpu\n"
          ]
        },
        {
          "output_type": "stream",
          "name": "stdout",
          "text": [
            "It looks like you are running Gradio on a hosted a Jupyter notebook. For the Gradio app to work, sharing must be enabled. Automatically setting `share=True` (you can turn this off by setting `share=False` in `launch()` explicitly).\n",
            "\n",
            "Colab notebook detected. To show errors in colab notebook, set debug=True in launch()\n",
            "* Running on public URL: https://d0f0122506f86144f3.gradio.live\n",
            "\n",
            "This share link expires in 1 week. For free permanent hosting and GPU upgrades, run `gradio deploy` from the terminal in the working directory to deploy to Hugging Face Spaces (https://huggingface.co/spaces)\n"
          ]
        },
        {
          "output_type": "display_data",
          "data": {
            "text/plain": [
              "<IPython.core.display.HTML object>"
            ],
            "text/html": [
              "<div><iframe src=\"https://d0f0122506f86144f3.gradio.live\" width=\"100%\" height=\"500\" allow=\"autoplay; camera; microphone; clipboard-read; clipboard-write;\" frameborder=\"0\" allowfullscreen></iframe></div>"
            ]
          },
          "metadata": {}
        },
        {
          "output_type": "execute_result",
          "data": {
            "text/plain": []
          },
          "metadata": {},
          "execution_count": 6
        }
      ]
    }
  ]
}