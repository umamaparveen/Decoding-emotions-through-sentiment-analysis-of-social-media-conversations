{
  "nbformat": 4,
  "nbformat_minor": 0,
  "metadata": {
    "colab": {
      "provenance": [],
      "authorship_tag": "ABX9TyMspTImw1RrW/EyxW2xqLPS",
      "include_colab_link": true
    },
    "kernelspec": {
      "name": "python3",
      "display_name": "Python 3"
    },
    "language_info": {
      "name": "python"
    }
  },
  "cells": [
    {
      "cell_type": "markdown",
      "metadata": {
        "id": "view-in-github",
        "colab_type": "text"
      },
      "source": [
        "<a href=\"https://colab.research.google.com/github/umamaparveen/Decoding-emotions-through-sentiment-analysis-of-social-media-conversations/blob/main/Project.ipynb\" target=\"_parent\"><img src=\"https://colab.research.google.com/assets/colab-badge.svg\" alt=\"Open In Colab\"/></a>"
      ]
    },
    {
      "cell_type": "code",
      "execution_count": 1,
      "metadata": {
        "colab": {
          "base_uri": "https://localhost:8080/"
        },
        "id": "x2TYBipP8Ahl",
        "outputId": "c087eeab-eef2-4ba1-8995-3fd38a7d016d"
      },
      "outputs": [
        {
          "output_type": "stream",
          "name": "stdout",
          "text": [
            "Collecting emoji\n",
            "  Downloading emoji-2.14.1-py3-none-any.whl.metadata (5.7 kB)\n",
            "Downloading emoji-2.14.1-py3-none-any.whl (590 kB)\n",
            "\u001b[2K   \u001b[90m━━━━━━━━━━━━━━━━━━━━━━━━━━━━━━━━━━━━━━━━\u001b[0m \u001b[32m590.6/590.6 kB\u001b[0m \u001b[31m6.8 MB/s\u001b[0m eta \u001b[36m0:00:00\u001b[0m\n",
            "\u001b[?25hInstalling collected packages: emoji\n",
            "Successfully installed emoji-2.14.1\n",
            "1. \"I finally finished my project! 🥳🔥\" => Emotions: Celebration, Excitement\n",
            "2. \"I miss you so much 😢\" => Emotions: Sadness\n",
            "3. \"This is hilarious! 😂\" => Emotions: Laughter\n",
            "4. \"Not sure what to think... 🤔\" => Emotions: Thinking\n",
            "5. \"You're the best! ❤️\" => Emotions: No emotion detected\n",
            "6. \"I can't believe this happened 😱\" => Emotions: Fear\n"
          ]
        }
      ],
      "source": [
        "!pip install emoji\n",
        "import emoji\n",
        "import re\n",
        "\n",
        "# Define a basic emoji-to-emotion mapping\n",
        "emoji_emotion_map = {\n",
        "    \"😀\": \"Joy\",\n",
        "    \"😢\": \"Sadness\",\n",
        "    \"😠\": \"Anger\",\n",
        "    \"😱\": \"Fear\",\n",
        "    \"😍\": \"Love\",\n",
        "    \"😂\": \"Laughter\",\n",
        "    \"😭\": \"Grief\",\n",
        "    \"😒\": \"Displeasure\",\n",
        "    \"😎\": \"Confidence\",\n",
        "    \"😴\": \"Tiredness\",\n",
        "    \"🤔\": \"Thinking\",\n",
        "    \"❤️\": \"Love\",\n",
        "    \"🔥\": \"Excitement\",\n",
        "    \"👍\": \"Approval\",\n",
        "    \"👎\": \"Disapproval\",\n",
        "    \"🥳\": \"Celebration\"\n",
        "}\n",
        "\n",
        "# Sample social media posts\n",
        "posts = [\n",
        "    \"I finally finished my project! 🥳🔥\",\n",
        "    \"I miss you so much 😢\",\n",
        "    \"This is hilarious! 😂\",\n",
        "    \"Not sure what to think... 🤔\",\n",
        "    \"You're the best! ❤️\",\n",
        "    \"I can't believe this happened 😱\"\n",
        "]\n",
        "\n",
        "# Function to extract emojis and map to emotions\n",
        "def decode_emojis(text):\n",
        "    found_emojis = [char for char in text if char in emoji_emotion_map]\n",
        "    emotions = [emoji_emotion_map[e] for e in found_emojis]\n",
        "    return emotions or [\"No emotion detected\"]\n",
        "\n",
        "# Analyze each post\n",
        "for idx, post in enumerate(posts, 1):\n",
        "    emotions = decode_emojis(post)\n",
        "    print(f\"{idx}. \\\"{post}\\\" => Emotions: {', '.join(emotions)}\")"
      ]
    }
  ]
}